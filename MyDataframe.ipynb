{
 "cells": [
  {
   "cell_type": "markdown",
   "metadata": {},
   "source": [
    "# Assignment Two\n",
    "\n",
    "This programme is comprised of two classes: MySeries and MyDataFrame that allow for the implementation of an indexed series stored as a dictionary and a basic dataframe. These classes have methods such as min, max, mean and print. I will go into further detail throughout the script."
   ]
  },
  {
   "cell_type": "code",
   "execution_count": 1,
   "metadata": {},
   "outputs": [],
   "source": [
    "class MySeries():\n",
    "    #constructor set up with error handling for any exceptions raised\n",
    "    def __init__(self, s_dict, **kwargs):\n",
    "        self.s_dict = s_dict\n",
    "        try:\n",
    "            #if the user inputs a dictionary\n",
    "            self.s_dict = s_dict\n",
    "            if isinstance(self.s_dict, dict):\n",
    "                pass\n",
    "            \n",
    "            #if the user inputs an index\n",
    "            elif 'index' in kwargs:\n",
    "                index = kwargs['index']\n",
    "                self.s_dict = {index[i]: self.s_dict[i] for i in range(len(index))} \n",
    "            \n",
    "            #no index inputted\n",
    "            else: \n",
    "                self.s_dict = {i : self.s_dict[i] for i in range(0, len(self.s_dict))}\n",
    "                    \n",
    "        except TypeError:\n",
    "            print(\"This class takes at most two positional arguments (lists or dictionaries),please enter a series or dictionary, and an index is optional\")\n",
    "      \n",
    "        except IndexError:\n",
    "            print(\"incorrect index, ensure that both the series and index have the same number of entries\")\n",
    "            \n",
    "        \n",
    "            \n",
    "    #returns minimum value from the series\n",
    "    def min(self):\n",
    "        print(min(self.s_dict, key = self.s_dict.get))\n",
    "        \n",
    "    #returns maximum value from the series\n",
    "    def max(self):\n",
    "        print(max(self.s_dict, key = self.s_dict.get))\n",
    "\n",
    "    #returns mean value from the series\n",
    "    def mean(self):\n",
    "        print(sum(self.s_dict.values())/len(self.s_dict))\n",
    "\n",
    "    #prints the series\n",
    "    def print(self):\n",
    "        for key, value in self.s_dict.items():\n",
    "            print(key, ' ', value)\n",
    "\n",
    "    #returns item at given index\n",
    "    def item_at_ind(self, ind):\n",
    "        for key,value in self.s_dict.items():\n",
    "            if key == ind:\n",
    "                print(value)\n",
    "                \n",
    "    \n",
    "class MyDataFrame(MySeries):\n",
    "    #MyDataframe is set up as a subclass of Myseries \n",
    "    #constructor set up with error handling and kwargs for optional index\n",
    "    def __init__(self, s_dict, **kwargs):\n",
    "        self.s_dict = s_dict\n",
    "        try:\n",
    "            if 'index' in kwargs:\n",
    "                index = kwargs['index']\n",
    "                index = {'':index}\n",
    "                self.s_dict = {**index, **self.s_dict}\n",
    "\n",
    "            else:\n",
    "                pass\n",
    "            \n",
    "        except (TypeError,ValueError,NameError):\n",
    "            print(\"This class takes at most two positional arguments,please enter a series or dictionary, and an index is optional\")\n",
    "\n",
    "        except IndexError:\n",
    "            print(\"incorrect index, ensure that both the series and index have the same number of entries\")\n",
    "            \n",
    "    #prints the dataframe   \n",
    "    def print(self):\n",
    "        for row in zip(*([key] + (value) for key, value in (self.s_dict.items()))):\n",
    "            print(\"{:<10} {:<10} {:<10} {:<10} {:<10} {:<10}\".format(*row))\n",
    "\n",
    "    #sorts the values of the dataframe by a given column. \n",
    "    #does so by taking this column, sorting it, getting the index and mapping this index to the rest of the dataframe\n",
    "    def sort_values(self,column):\n",
    "        self.column = column\n",
    "        s = self.s_dict[self.column]\n",
    "        li=[] \n",
    "        for i in range(len(s)): \n",
    "              li.append([s[i],i]) \n",
    "        li.sort() \n",
    "        sort_index = [] \n",
    "        for x in li: \n",
    "              sort_index.append(x[1]) \n",
    "\n",
    "        newdictionary = {}\n",
    "        for key in self.s_dict.keys():   \n",
    "            newdictionary[key] = [self.s_dict[key][i] for i in sort_index]    \n",
    "        self.s_dict = newdictionary\n",
    "\n",
    "    #returns mean value for each column, \n",
    "    #exception handling included to prevent error when values in the dataframe are of type string \n",
    "    def mean(self):\n",
    "        #the index is not to be considered for these methods, the following line removes the index column.\n",
    "        no_index = {key: value for key, value in self.s_dict.items() if key != ''}\n",
    "        try:\n",
    "            for key, values in no_index.items():\n",
    "                average = sum(values) / len(values)\n",
    "                print(key, \"{:.2f}\".format(average))\n",
    "        except TypeError:\n",
    "            pass\n",
    "\n",
    "        \n",
    "    #returns maximum value for each column, \n",
    "    #exception handling included to prevent error when values in the dataframe are of type string \n",
    "    def max(self):\n",
    "        no_index = {key: value for key, value in self.s_dict.items() if key != ''}\n",
    "        try:\n",
    "            for key, values in no_index.items():\n",
    "                max_val = max(values)\n",
    "                print(key, \"{:.2f}\".format(max_val))\n",
    "        except (TypeError, ValueError):\n",
    "            pass\n",
    "        \n",
    "    #returns minimum value for each column, \n",
    "    #exception handling included to prevent error when values in the dataframe are of type string          \n",
    "    def min(self):\n",
    "        no_index = {key: value for key, value in self.s_dict.items() if key != ''}\n",
    "        try:\n",
    "            for key, values in no_index.items():\n",
    "                min_val = min(values)\n",
    "                print(key, \"{:.2f}\".format(min_val))\n",
    "            \n",
    "        except (TypeError, ValueError):\n",
    "            pass\n",
    "                \n",
    "\n",
    "        "
   ]
  },
  {
   "cell_type": "code",
   "execution_count": 2,
   "metadata": {},
   "outputs": [
    {
     "data": {
      "text/plain": [
       "{0: 1}"
      ]
     },
     "execution_count": 2,
     "metadata": {},
     "output_type": "execute_result"
    }
   ],
   "source": [
    "ms6 = MySeries([1])\n",
    "ms6.s_dict"
   ]
  },
  {
   "cell_type": "markdown",
   "metadata": {},
   "source": [
    "# MySeries Implementation\n"
   ]
  },
  {
   "cell_type": "code",
   "execution_count": 3,
   "metadata": {},
   "outputs": [
    {
     "data": {
      "text/plain": [
       "{'a': 1, 'b': 2, 'c': 1}"
      ]
     },
     "execution_count": 3,
     "metadata": {},
     "output_type": "execute_result"
    }
   ],
   "source": [
    "ms3 = MySeries([1,2,1], index = ['a','b','c'])\n",
    "ms3.s_dict"
   ]
  },
  {
   "cell_type": "code",
   "execution_count": 4,
   "metadata": {},
   "outputs": [
    {
     "data": {
      "text/plain": [
       "{0: 4, 1: 5, 2: 6}"
      ]
     },
     "execution_count": 4,
     "metadata": {},
     "output_type": "execute_result"
    }
   ],
   "source": [
    "ms4 = MySeries([4,5,6])\n",
    "ms4.s_dict"
   ]
  },
  {
   "cell_type": "code",
   "execution_count": 5,
   "metadata": {},
   "outputs": [
    {
     "data": {
      "text/plain": [
       "{'b': 1, 'a': 0, 'c': 2}"
      ]
     },
     "execution_count": 5,
     "metadata": {},
     "output_type": "execute_result"
    }
   ],
   "source": [
    "d = {'b': 1, 'a': 0, 'c': 2}\n",
    "s2 = MySeries(d)\n",
    "s2.s_dict"
   ]
  },
  {
   "cell_type": "code",
   "execution_count": 6,
   "metadata": {},
   "outputs": [
    {
     "name": "stdout",
     "output_type": "stream",
     "text": [
      "5.0\n",
      "\n",
      "b\n",
      "\n",
      "a\n"
     ]
    }
   ],
   "source": [
    "ms4.mean()\n",
    "print()\n",
    "ms3.max()\n",
    "print()\n",
    "s2.min()"
   ]
  },
  {
   "cell_type": "code",
   "execution_count": 7,
   "metadata": {},
   "outputs": [
    {
     "name": "stdout",
     "output_type": "stream",
     "text": [
      "a   1\n",
      "b   2\n",
      "c   1\n"
     ]
    }
   ],
   "source": [
    "ms3 = MySeries([1,2,1], index = ['a','b','c'])\n",
    "ms3.print()\n"
   ]
  },
  {
   "cell_type": "code",
   "execution_count": 8,
   "metadata": {},
   "outputs": [
    {
     "name": "stdout",
     "output_type": "stream",
     "text": [
      "1\n"
     ]
    }
   ],
   "source": [
    "ms3.item_at_ind('c')"
   ]
  },
  {
   "cell_type": "markdown",
   "metadata": {},
   "source": [
    "# MyDataFrame Implementation"
   ]
  },
  {
   "cell_type": "code",
   "execution_count": 9,
   "metadata": {},
   "outputs": [],
   "source": [
    "d = {'Sun Hours': [4.5,4.0,5.1,5],\n",
    "     'Max Temp': [19.6,19.1,19.6,20.0],\n",
    "     'Min Temp': [12.7,12.5,13.3,12.1],\n",
    "     'Rain (mm)': [82,109,65,76],\n",
    "     'Rain Days': [13,20,10,9.7]}\n",
    "df1 = MyDataFrame(d)\n",
    "df2 = MyDataFrame(d, index = ['Clare', 'Galway','Dublin', \n",
    "  'Wexford'])"
   ]
  },
  {
   "cell_type": "code",
   "execution_count": 10,
   "metadata": {},
   "outputs": [
    {
     "name": "stdout",
     "output_type": "stream",
     "text": [
      "           Sun Hours  Max Temp   Min Temp   Rain (mm)  Rain Days \n",
      "Clare      4.5        19.6       12.7       82         13        \n",
      "Galway     4.0        19.1       12.5       109        20        \n",
      "Dublin     5.1        19.6       13.3       65         10        \n",
      "Wexford    5          20.0       12.1       76         9.7       \n"
     ]
    }
   ],
   "source": [
    "df2.print()"
   ]
  },
  {
   "cell_type": "code",
   "execution_count": 11,
   "metadata": {},
   "outputs": [
    {
     "name": "stdout",
     "output_type": "stream",
     "text": [
      "           Sun Hours  Max Temp   Min Temp   Rain (mm)  Rain Days \n",
      "Dublin     5.1        19.6       13.3       65         10        \n",
      "Wexford    5          20.0       12.1       76         9.7       \n",
      "Clare      4.5        19.6       12.7       82         13        \n",
      "Galway     4.0        19.1       12.5       109        20        \n"
     ]
    }
   ],
   "source": [
    "df2.sort_values('Rain (mm)')\n",
    "df2.print()"
   ]
  },
  {
   "cell_type": "code",
   "execution_count": 12,
   "metadata": {},
   "outputs": [
    {
     "name": "stdout",
     "output_type": "stream",
     "text": [
      "Sun Hours 4.65\n",
      "Max Temp 19.58\n",
      "Min Temp 12.65\n",
      "Rain (mm) 83.00\n",
      "Rain Days 13.18\n",
      "\n",
      "Sun Hours 5.10\n",
      "Max Temp 20.00\n",
      "Min Temp 13.30\n",
      "Rain (mm) 109.00\n",
      "Rain Days 20.00\n",
      "\n",
      "Sun Hours 4.00\n",
      "Max Temp 19.10\n",
      "Min Temp 12.10\n",
      "Rain (mm) 65.00\n",
      "Rain Days 9.70\n"
     ]
    }
   ],
   "source": [
    "df2.mean()\n",
    "print()\n",
    "df2.max()\n",
    "print()\n",
    "df2.min()"
   ]
  },
  {
   "cell_type": "markdown",
   "metadata": {},
   "source": [
    "# Extra Sample Data"
   ]
  },
  {
   "cell_type": "code",
   "execution_count": 13,
   "metadata": {},
   "outputs": [
    {
     "name": "stdout",
     "output_type": "stream",
     "text": [
      "           Rank       Release Year IMDB Rating Time (minutes) Main Genre\n",
      "Sting      112        1973       8.3        129        Comedy    \n",
      "Shining    62         1980       8.4        146        Horror    \n",
      "Psycho     41         1960       8.5        109        Horror    \n",
      "Room       172        2015       8.1        118        Drama     \n",
      "Rocky      230        1976       8.1        120        Drama     \n",
      "Fargo      176        1996       8.1        98         Drama     \n"
     ]
    }
   ],
   "source": [
    "films = {'Rank': [112,62,41,172,230,176],\n",
    "        'Release Year': [1973,1980,1960,2015,1976,1996],\n",
    "        'IMDB Rating': [8.3,8.4,8.5,8.1,8.1,8.1],\n",
    "        'Time (minutes)': [129,146,109,118,120,98],\n",
    "        'Main Genre': ['Comedy','Horror','Horror','Drama','Drama','Drama']}\n",
    "f_names = ['Sting','Shining', 'Psycho','Room','Rocky','Fargo']\n",
    "\n",
    "films_df =  MyDataFrame(films, index = f_names) \n",
    "films_df.print()"
   ]
  },
  {
   "cell_type": "code",
   "execution_count": 14,
   "metadata": {},
   "outputs": [
    {
     "name": "stdout",
     "output_type": "stream",
     "text": [
      "Rank 132.17\n",
      "Release Year 1983.33\n",
      "IMDB Rating 8.25\n",
      "Time (minutes) 120.00\n"
     ]
    }
   ],
   "source": [
    "films_df.mean()"
   ]
  },
  {
   "cell_type": "code",
   "execution_count": 15,
   "metadata": {},
   "outputs": [
    {
     "name": "stdout",
     "output_type": "stream",
     "text": [
      "           Rank       Release Year IMDB Rating Time (minutes) Main Genre\n",
      "Psycho     41         1960       8.5        109        Horror    \n",
      "Sting      112        1973       8.3        129        Comedy    \n",
      "Rocky      230        1976       8.1        120        Drama     \n",
      "Shining    62         1980       8.4        146        Horror    \n",
      "Fargo      176        1996       8.1        98         Drama     \n",
      "Room       172        2015       8.1        118        Drama     \n"
     ]
    }
   ],
   "source": [
    "films_df.sort_values('Release Year')\n",
    "films_df.print()"
   ]
  },
  {
   "cell_type": "markdown",
   "metadata": {},
   "source": [
    "# Error Handling"
   ]
  },
  {
   "cell_type": "code",
   "execution_count": 16,
   "metadata": {},
   "outputs": [
    {
     "name": "stdout",
     "output_type": "stream",
     "text": [
      "incorrect index, ensure that both the series and index have the same number of entries\n"
     ]
    }
   ],
   "source": [
    "ms5 = MySeries([1,2,2],index=[2,3,5,6,7])"
   ]
  },
  {
   "cell_type": "code",
   "execution_count": 17,
   "metadata": {},
   "outputs": [
    {
     "name": "stdout",
     "output_type": "stream",
     "text": [
      "This class takes at most two positional arguments (lists or dictionaries),please enter a series or dictionary, and an index is optional\n"
     ]
    }
   ],
   "source": [
    "ms5 = MySeries(2)"
   ]
  },
  {
   "cell_type": "code",
   "execution_count": null,
   "metadata": {},
   "outputs": [],
   "source": []
  }
 ],
 "metadata": {
  "kernelspec": {
   "display_name": "Python 3",
   "language": "python",
   "name": "python3"
  },
  "language_info": {
   "codemirror_mode": {
    "name": "ipython",
    "version": 3
   },
   "file_extension": ".py",
   "mimetype": "text/x-python",
   "name": "python",
   "nbconvert_exporter": "python",
   "pygments_lexer": "ipython3",
   "version": "3.8.3"
  }
 },
 "nbformat": 4,
 "nbformat_minor": 4
}
